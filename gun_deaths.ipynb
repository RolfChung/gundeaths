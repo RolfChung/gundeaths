{
 "cells": [
  {
   "cell_type": "markdown",
   "metadata": {},
   "source": [
    "# Summary"
   ]
  },
  {
   "cell_type": "markdown",
   "metadata": {},
   "source": [
    "In this small projects gun deaths in the U.S.A are investigated.\n",
    "The gun deaths per year are nearly constant from 2012 to 2014.\n",
    "The gun death by mont has a low in February and peaks in July. \n",
    "Some speculations can be done why this is the case.\n",
    "More males than females are killed by guns. \n",
    "Social support actions tailored to males could be justified therefore.\n",
    "At some point the gun death data set is matched with the census data set.\n",
    "The census data allows to understand the ethnic connection of gun deaths.\n",
    "Have some ethnics groups unproportional higher gun deaths than other groups?\n",
    "The ethnic group 'black' have unproportional \n",
    "higher number of gun deaths and homicides.\n",
    "Social politics could address this with support programs to reduce the numbers \n",
    "of people belonging to the \"black\" group suffering from gun death within a time frame."
   ]
  },
  {
   "cell_type": "markdown",
   "metadata": {},
   "source": [
    "# Import packages"
   ]
  },
  {
   "cell_type": "code",
   "execution_count": 235,
   "metadata": {},
   "outputs": [
    {
     "name": "stdout",
     "output_type": "stream",
     "text": [
      "0.24.2\n"
     ]
    }
   ],
   "source": [
    "import pandas as pd\n",
    "print(pd.__version__)"
   ]
  },
  {
   "cell_type": "markdown",
   "metadata": {},
   "source": [
    "# Import data"
   ]
  },
  {
   "cell_type": "code",
   "execution_count": 236,
   "metadata": {},
   "outputs": [
    {
     "name": "stdout",
     "output_type": "stream",
     "text": [
      "[['', 'year', 'month', 'intent', 'police', 'sex', 'age', 'race', 'hispanic', 'place', 'education'], ['1', '2012', '01', 'Suicide', '0', 'M', '34', 'Asian/Pacific Islander', '100', 'Home', '4'], ['2', '2012', '01', 'Suicide', '0', 'F', '21', 'White', '100', 'Street', '3'], ['3', '2012', '01', 'Suicide', '0', 'M', '60', 'White', '100', 'Other specified', '4'], ['4', '2012', '02', 'Suicide', '0', 'M', '64', 'White', '100', 'Home', '4']]\n"
     ]
    }
   ],
   "source": [
    "import csv\n",
    "f = open(\"guns.csv\", \"r\")\n",
    "csv_file = csv.reader(f)\n",
    "data = list(csv_file)\n",
    "print(data[:5])"
   ]
  },
  {
   "cell_type": "code",
   "execution_count": 237,
   "metadata": {},
   "outputs": [
    {
     "name": "stdout",
     "output_type": "stream",
     "text": [
      "['', 'year', 'month', 'intent', 'police', 'sex', 'age', 'race', 'hispanic', 'place', 'education']\n",
      "[['1', '2012', '01', 'Suicide', '0', 'M', '34', 'Asian/Pacific Islander', '100', 'Home', '4'], ['2', '2012', '01', 'Suicide', '0', 'F', '21', 'White', '100', 'Street', '3'], ['3', '2012', '01', 'Suicide', '0', 'M', '60', 'White', '100', 'Other specified', '4'], ['4', '2012', '02', 'Suicide', '0', 'M', '64', 'White', '100', 'Home', '4'], ['5', '2012', '02', 'Suicide', '0', 'M', '31', 'White', '100', 'Other specified', '2']]\n"
     ]
    }
   ],
   "source": [
    "headers=data[0]\n",
    "print(headers)\n",
    "data=data[1:len(data)]\n",
    "print(data[:5])"
   ]
  },
  {
   "cell_type": "markdown",
   "metadata": {},
   "source": [
    "# Explore & clean data"
   ]
  },
  {
   "cell_type": "markdown",
   "metadata": {},
   "source": [
    "## Variable: years"
   ]
  },
  {
   "cell_type": "code",
   "execution_count": 238,
   "metadata": {},
   "outputs": [
    {
     "name": "stdout",
     "output_type": "stream",
     "text": [
      "['2012', '2012', '2012', '2012']\n",
      "{'2013', '2014', '2012'}\n",
      "{'2012': 33563, '2013': 33636, '2014': 33599}\n"
     ]
    }
   ],
   "source": [
    "# count number of occurences per year\n",
    "years=[i[1] for i in data]\n",
    "print(years[:4])\n",
    "years_set = set(years)\n",
    "print(years_set)\n",
    "year_counts={}\n",
    "for i in years:\n",
    "    if i in year_counts.keys():\n",
    "        year_counts[i] += 1\n",
    "    else:\n",
    "        year_counts[i] = 1\n",
    "print(year_counts)\n",
    " "
   ]
  },
  {
   "cell_type": "code",
   "execution_count": 239,
   "metadata": {
    "scrolled": true
   },
   "outputs": [],
   "source": [
    "        \n",
    "from matplotlib import pyplot as plt\n",
    "%matplotlib inline\n",
    "\n",
    "year_counts_name = list(year_counts.keys())\n",
    "year_counts_values = year_counts.values()\n",
    "year_counts_range = range(len(year_counts))\n",
    "\n"
   ]
  },
  {
   "cell_type": "code",
   "execution_count": 240,
   "metadata": {},
   "outputs": [
    {
     "data": {
      "image/png": "[encoded data removed]",
      "text/plain": [
       "<Figure size 432x288 with 1 Axes>"
      ]
     },
     "metadata": {
      "needs_background": "light"
     },
     "output_type": "display_data"
    }
   ],
   "source": [
    "plt.bar(year_counts_name , year_counts_values, \n",
    "        tick_label=year_counts_name, align='center',\n",
    "       color=('seagreen', 'palevioletred'), edgecolor='blue',\n",
    "    linewidth=4)\n",
    "plt.xticks(rotation=90)\n",
    "plt.title('Gun deaths grouped by year in % \\n')\n",
    "plt.xlabel('Years')\n",
    "plt.ylabel('Count of years \\n')\n",
    "plt.show()"
   ]
  },
  {
   "cell_type": "markdown",
   "metadata": {},
   "source": [
    "The gun deaths per year are nearly constant."
   ]
  },
  {
   "cell_type": "markdown",
   "metadata": {},
   "source": [
    "### Time series: gun death by months"
   ]
  },
  {
   "cell_type": "code",
   "execution_count": 241,
   "metadata": {},
   "outputs": [
    {
     "name": "stdout",
     "output_type": "stream",
     "text": [
      "['01', '01', '01', '02', '02']\n",
      "{'07', '04', '08', '09', '03', '02', '05', '12', '06', '11', '01', '10'}\n",
      "{'01': 8273, '02': 7093, '03': 8289, '04': 8455, '05': 8669, '06': 8677, '07': 8989, '08': 8783, '09': 8508, '10': 8406, '11': 8243, '12': 8413}\n"
     ]
    }
   ],
   "source": [
    "# exploring variable month\n",
    "months = [i[2] for i in data]\n",
    "print(months[:5])\n",
    "# what are the unique values of the variable months\n",
    "months_set= set(months)\n",
    "print(months_set)\n",
    "# all months are included: okay\n",
    "# count gun deaths per months, meaning count row per month\n",
    "gundeaths_month = {}\n",
    "for i in data:\n",
    "    if i[2] in gundeaths_month.keys():\n",
    "        gundeaths_month[i[2]] += 1\n",
    "    else:\n",
    "        gundeaths_month[i[2]] = 1\n",
    "\n",
    "print(gundeaths_month)"
   ]
  },
  {
   "cell_type": "code",
   "execution_count": 242,
   "metadata": {
    "scrolled": true
   },
   "outputs": [
    {
     "name": "stdout",
     "output_type": "stream",
     "text": [
      "[('01', 8273), ('02', 7093), ('03', 8289), ('04', 8455), ('05', 8669), ('06', 8677), ('07', 8989), ('08', 8783), ('09', 8508), ('10', 8406)]\n",
      "[('01', 8273), ('02', 7093), ('03', 8289), ('04', 8455), ('05', 8669), ('06', 8677), ('07', 8989), ('08', 8783), ('09', 8508), ('10', 8406)]\n"
     ]
    }
   ],
   "source": [
    "gundeaths_month_list = [(k, v) for k,v in gundeaths_month.items()]\n",
    "print(gundeaths_month_list[:10])\n",
    "gundeaths_month_list_sorted = sorted(gundeaths_month_list)\n",
    "print(gundeaths_month_list_sorted[:10])\n",
    "\n",
    "    "
   ]
  },
  {
   "cell_type": "code",
   "execution_count": 243,
   "metadata": {},
   "outputs": [
    {
     "name": "stdout",
     "output_type": "stream",
     "text": [
      "['01', '02', '03', '04', '05', '06', '07', '08', '09', '10', '11', '12']\n",
      "[8273, 7093, 8289, 8455, 8669, 8677, 8989, 8783, 8508, 8406, 8243, 8413]\n"
     ]
    },
    {
     "data": {
      "image/png": "[encoded data removed]",
      "text/plain": [
       "<Figure size 432x288 with 1 Axes>"
      ]
     },
     "metadata": {
      "needs_background": "light"
     },
     "output_type": "display_data"
    }
   ],
   "source": [
    "x_gundeaths_month = []\n",
    "y_gundeaths_month = []\n",
    "for row in gundeaths_month_list_sorted:\n",
    "    x_gundeaths_month.append(row[0])\n",
    "    y_gundeaths_month.append(row[1])\n",
    "\n",
    "print(x_gundeaths_month)\n",
    "print(y_gundeaths_month)\n",
    "\n",
    "plt.plot(x_gundeaths_month, y_gundeaths_month, linestyle='solid', linewidth=3.0, color=\"red\")\n",
    "plt.title(\"Gundeaths by months \\n\", fontsize=14, color='black', weight = 'bold')\n",
    "plt.xlabel(\"Months \\n\",  fontsize=14, color='blue')\n",
    "plt.ylabel(\"Absolute number of gun deaths \\n\", fontsize=14, color='blue')\n",
    "plt.show()\n"
   ]
  },
  {
   "cell_type": "markdown",
   "metadata": {},
   "source": [
    "The gun death by mont has a low in February and peaks in July. Speculation: because it is cold in Feburary people are less outside and are less likely to be killed outside. Further investigation: this makes sense for homicides to a degree but does it also for suicide? Also temperature for the southern region are in February also higher. A separation by \"cold\" and \"hot\" southern region could help to understand this. The differentitation between northern and southern region is not in the data set and has to be constructed with other sources if possible.\n"
   ]
  },
  {
   "cell_type": "code",
   "execution_count": 244,
   "metadata": {},
   "outputs": [
    {
     "name": "stdout",
     "output_type": "stream",
     "text": [
      "[datetime.datetime(2012, 1, 1, 0, 0), datetime.datetime(2012, 1, 1, 0, 0), datetime.datetime(2012, 1, 1, 0, 0), datetime.datetime(2012, 2, 1, 0, 0), datetime.datetime(2012, 2, 1, 0, 0)]\n",
      "[datetime.datetime(2014, 9, 1, 0, 0), datetime.datetime(2014, 9, 1, 0, 0), datetime.datetime(2014, 9, 1, 0, 0), datetime.datetime(2014, 9, 1, 0, 0), datetime.datetime(2014, 9, 1, 0, 0)]\n",
      "36\n",
      "2012-01-01 00:00:00 2758\n",
      "2012-02-01 00:00:00 2357\n",
      "2012-03-01 00:00:00 2743\n",
      "2012-04-01 00:00:00 2795\n",
      "2012-05-01 00:00:00 2999\n",
      "2012-06-01 00:00:00 2826\n"
     ]
    }
   ],
   "source": [
    "import datetime\n",
    "dates = [datetime.datetime(year=int(i[1]), month=int(i[2]), day=1) for i in data]\n",
    "print(dates[:5])\n",
    "len(dates)\n",
    "print(dates[90000:90005])\n",
    "date_counts = {}\n",
    "for date in dates:\n",
    "    if date in date_counts.keys():\n",
    "        date_counts[date] += 1\n",
    "    else:\n",
    "        date_counts[date] = 1\n",
    "print(len(date_counts))\n",
    "\n",
    "counter_5=0\n",
    "for key, value in date_counts.items():\n",
    "    print(key, value)\n",
    "    counter_5+=1\n",
    "    if counter_5 > 5:\n",
    "        break"
   ]
  },
  {
   "cell_type": "code",
   "execution_count": 245,
   "metadata": {},
   "outputs": [
    {
     "name": "stdout",
     "output_type": "stream",
     "text": [
      "['', 'year', 'month', 'intent', 'police', 'sex', 'age', 'race', 'hispanic', 'place', 'education']\n"
     ]
    }
   ],
   "source": [
    "print(headers)"
   ]
  },
  {
   "cell_type": "markdown",
   "metadata": {},
   "source": [
    "## Variable: sex"
   ]
  },
  {
   "cell_type": "code",
   "execution_count": 246,
   "metadata": {},
   "outputs": [
    {
     "name": "stdout",
     "output_type": "stream",
     "text": [
      "['M', 'F', 'M', 'M', 'M']\n"
     ]
    }
   ],
   "source": [
    "# sex: 5\n",
    "sex_column = []\n",
    "for i in data:\n",
    "    sex_column.append(i[5])\n",
    "print(sex_column[:5])\n",
    "# sex_column.remove('sex')    \n",
    "# sex has only 1 element and is removed"
   ]
  },
  {
   "cell_type": "code",
   "execution_count": 247,
   "metadata": {},
   "outputs": [
    {
     "name": "stdout",
     "output_type": "stream",
     "text": [
      "{'F', 'M'}\n",
      "['M', 'F', 'M', 'M', 'M']\n",
      "dict_items([('M', 86349), ('F', 14449)])\n"
     ]
    }
   ],
   "source": [
    "sex_column_set = set(sex_column)\n",
    "print(sex_column_set)\n",
    "\n",
    "sex_column_2 = [i[5] for i in data]\n",
    "# sex_column_2.remove('sex')\n",
    "\n",
    "print(sex_column_2[:5])\n",
    "\n",
    "sex_counts={}\n",
    "for sex in sex_column_2:\n",
    "    if sex in sex_counts.keys():\n",
    "        sex_counts[sex] += 1\n",
    "    else:\n",
    "        sex_counts[sex] = 1\n",
    "\n",
    "print(sex_counts.items())\n"
   ]
  },
  {
   "cell_type": "code",
   "execution_count": 248,
   "metadata": {},
   "outputs": [
    {
     "name": "stdout",
     "output_type": "stream",
     "text": [
      "{'Asian/Pacific Islander', 'Black', 'Hispanic', 'White', 'Native American/Native Alaskan'}\n",
      "{'Asian/Pacific Islander': 1326, 'White': 66237, 'Native American/Native Alaskan': 917, 'Black': 23296, 'Hispanic': 9022}\n",
      "['M', 'F']\n"
     ]
    }
   ],
   "source": [
    "# race: 7 \n",
    "race_counts = {}\n",
    "race_column = [ i[7] for i in data]\n",
    "race_column_set = set(race_column)\n",
    "print(race_column_set)\n",
    "for race in race_column:\n",
    "    if race in race_counts.keys():\n",
    "        race_counts[race] += 1\n",
    "    else:\n",
    "        race_counts[race] = 1\n",
    "print(race_counts)\n",
    "        \n",
    "\n",
    "\n",
    "names_sex = list(sex_counts.keys())\n",
    "print(names_sex )\n",
    "values_sex = list(sex_counts.values())\n",
    "\n"
   ]
  },
  {
   "cell_type": "code",
   "execution_count": 249,
   "metadata": {},
   "outputs": [
    {
     "data": {
      "image/png": "[encoded data removed]",
      "text/plain": [
       "<Figure size 432x288 with 1 Axes>"
      ]
     },
     "metadata": {
      "needs_background": "light"
     },
     "output_type": "display_data"
    }
   ],
   "source": [
    "#tick_label does the some work as plt.xticks()\n",
    "plt.bar(range(len(sex_counts)),values_sex , \n",
    "        tick_label=names_sex,  align='center', color=('green', 'red'),\n",
    "        edgecolor='black', linewidth=4)\n",
    "plt.xticks(rotation=90)\n",
    "plt.title(\"US gun deaths by gender \\n\")\n",
    "plt.xlabel(\"Gender \\n\")\n",
    "plt.ylabel(\"Number of deaths \\n\")\n",
    "plt.show()      \n",
    "\n"
   ]
  },
  {
   "cell_type": "markdown",
   "metadata": {},
   "source": [
    "More males than females are killed by guns. \n",
    "Social support actions tailored to males could be justified."
   ]
  },
  {
   "cell_type": "code",
   "execution_count": 250,
   "metadata": {},
   "outputs": [
    {
     "name": "stdout",
     "output_type": "stream",
     "text": [
      "['Asian/Pacific Islander', 'White', 'Native American/Native Alaskan', 'Black', 'Hispanic']\n",
      "range(0, 5)\n"
     ]
    },
    {
     "data": {
      "image/png": "[encoded data removed]",
      "text/plain": [
       "<Figure size 432x288 with 1 Axes>"
      ]
     },
     "metadata": {
      "needs_background": "light"
     },
     "output_type": "display_data"
    }
   ],
   "source": [
    "name_race=list(race_counts.keys())\n",
    "print(name_race)\n",
    "values_race=race_counts.values()\n",
    "length_race=range(len(race_counts))\n",
    "print(length_race)\n",
    "\n",
    "plt.bar(name_race, values_race, tick_label=name_race, \n",
    "        align=\"center\", edgecolor='black', linewidth=4, color=['maroon', 'cyan'])\n",
    "plt.xticks(rotation=90)\n",
    "plt.title(\"US gun deaths by race \\n\")\n",
    "plt.xlabel(\"Races \\n\")\n",
    "plt.ylabel(\"Number of deaths \\n\")\n",
    "\n",
    "plt.show()"
   ]
  },
  {
   "cell_type": "markdown",
   "metadata": {},
   "source": [
    "## Matching type of gun deaths with census data\n",
    "\n",
    "The census data allows to understand the ethnic origin of gun deaths."
   ]
  },
  {
   "cell_type": "code",
   "execution_count": 251,
   "metadata": {},
   "outputs": [
    {
     "name": "stdout",
     "output_type": "stream",
     "text": [
      "[['Id', 'Year', 'Id', 'Sex', 'Id', 'Hispanic Origin', 'Id', 'Id2', 'Geography', 'Total', 'Race Alone - White', 'Race Alone - Hispanic', 'Race Alone - Black or African American', 'Race Alone - American Indian and Alaska Native', 'Race Alone - Asian', 'Race Alone - Native Hawaiian and Other Pacific Islander', 'Two or More Races'], ['cen42010', 'April 1, 2010 Census', 'totsex', 'Both Sexes', 'tothisp', 'Total', '0100000US', '', 'United States', '308745538', '197318956', '44618105', '40250635', '3739506', '15159516', '674625', '6984195']]\n"
     ]
    }
   ],
   "source": [
    "# loading census data with python core\n",
    "f = open(\"census.csv\", \"r\")\n",
    "csvfile = csv.reader(f)\n",
    "censusdata = list(csvfile)\n",
    "print(censusdata)"
   ]
  },
  {
   "cell_type": "code",
   "execution_count": 252,
   "metadata": {},
   "outputs": [
    {
     "name": "stdout",
     "output_type": "stream",
     "text": [
      "dict_keys(['Asian/Pacific Islander', 'White', 'Native American/Native Alaskan', 'Black', 'Hispanic'])\n",
      "197318956\n",
      "44618105\n",
      "40250635\n",
      "3739506\n",
      "15159516\n",
      "674625\n",
      "15834141\n",
      "{'White': 197318956, 'Asian/Pacific Islander': 15834141, 'Black': 40250635, 'Native American/Native Alaskan': 3739506, 'Hispanic': 44618105}\n"
     ]
    }
   ],
   "source": [
    "mapping = {}\n",
    "\n",
    "print(race_counts.keys())\n",
    "\n",
    "censusdata_white = [ i[10] for i in censusdata]\n",
    "censusdata_white=int(censusdata_white[1])\n",
    "print(censusdata_white)\n",
    "censusdata_hispanic = [ i[11] for i in censusdata]\n",
    "censusdata_hispanic=int(censusdata_hispanic[1])\n",
    "print(censusdata_hispanic)\n",
    "censusdata_black = [ i[12] for i in censusdata]\n",
    "censusdata_black=int(censusdata_black[1])\n",
    "print(censusdata_black)\n",
    "censusdata_native = [ i[13] for i in censusdata]\n",
    "censusdata_native=int(censusdata_native[1])\n",
    "print(censusdata_native)\n",
    "censusdata_asian = [i[14] for i in censusdata]\n",
    "censusdata_asian=int(censusdata_asian[1])\n",
    "print(censusdata_asian)\n",
    "censusdata_hawai = [i[15] for i in censusdata]\n",
    "censusdata_hawai=int(censusdata_hawai[1])\n",
    "print(censusdata_hawai)\n",
    "asian_hawai = censusdata_hawai + censusdata_asian\n",
    "print(asian_hawai)\n",
    "\n",
    "mapping['White'] = censusdata_white\n",
    "mapping['Asian/Pacific Islander'] = asian_hawai\n",
    "mapping[ 'Black'] = censusdata_black \n",
    "mapping['Native American/Native Alaskan'] = censusdata_native\n",
    "mapping['Hispanic'] = censusdata_hispanic\n",
    "print(mapping)\n",
    "\n"
   ]
  },
  {
   "cell_type": "markdown",
   "metadata": {},
   "source": [
    "#### Have some ethnics groups unproportional higher gun deaths than other groups?"
   ]
  },
  {
   "cell_type": "code",
   "execution_count": 253,
   "metadata": {},
   "outputs": [
    {
     "name": "stdout",
     "output_type": "stream",
     "text": [
      "{'Asian/Pacific Islander': 8.37, 'White': 33.57, 'Native American/Native Alaskan': 24.52, 'Black': 57.88, 'Hispanic': 20.22}\n"
     ]
    }
   ],
   "source": [
    "\n",
    "race_per_hundredk={}\n",
    "for i,v in race_counts.items():\n",
    "    for u,b in mapping.items():\n",
    "        if i == u:\n",
    "            rr=v/b*100000\n",
    "            race_per_hundredk[i]=round(rr,2)\n",
    "    \n",
    "print(race_per_hundredk)\n",
    "\n"
   ]
  },
  {
   "cell_type": "code",
   "execution_count": 254,
   "metadata": {},
   "outputs": [
    {
     "name": "stdout",
     "output_type": "stream",
     "text": [
      "['Asian/Pacific Islander', 'White', 'Native American/Native Alaskan', 'Black', 'Hispanic']\n"
     ]
    }
   ],
   "source": [
    "\n",
    "from matplotlib import pyplot as plt\n",
    "%matplotlib inline\n",
    "\n",
    "names = list(race_per_hundredk.keys())\n",
    "print(names)\n",
    "values = list(race_per_hundredk.values())\n",
    "\n",
    "    "
   ]
  },
  {
   "cell_type": "code",
   "execution_count": 255,
   "metadata": {},
   "outputs": [
    {
     "data": {
      "image/png": "[encoded data removed]",
      "text/plain": [
       "<Figure size 432x288 with 1 Axes>"
      ]
     },
     "metadata": {
      "needs_background": "light"
     },
     "output_type": "display_data"
    }
   ],
   "source": [
    "\n",
    "#tick_label does the some work as plt.xticks()\n",
    "plt.bar(range(len(race_per_hundredk)), values, tick_label=names, \n",
    "        align='center', color=('magenta', \"brown\"), edgecolor='black',\n",
    "        linewidth=4)\n",
    "plt.xticks(rotation=90)\n",
    "plt.title(\"US gun deaths grouped by race per 100.000 people \\n\")\n",
    "plt.xlabel(\"Races \\n\")\n",
    "plt.ylabel(\"Number of deaths per 100.000 \\n\")\n",
    "plt.show()\n"
   ]
  },
  {
   "cell_type": "markdown",
   "metadata": {},
   "source": [
    "The ethnic group 'black' have unproportional higher number of gun deaths.\n",
    "Social politics could address this with support programs to reduce the numbers\n",
    "within a time frame."
   ]
  },
  {
   "cell_type": "markdown",
   "metadata": {},
   "source": [
    "## Death types"
   ]
  },
  {
   "cell_type": "code",
   "execution_count": 256,
   "metadata": {},
   "outputs": [
    {
     "name": "stdout",
     "output_type": "stream",
     "text": [
      "[['1', '2012', '01', 'Suicide', '0', 'M', '34', 'Asian/Pacific Islander', '100', 'Home', '4'], ['2', '2012', '01', 'Suicide', '0', 'F', '21', 'White', '100', 'Street', '3'], ['3', '2012', '01', 'Suicide', '0', 'M', '60', 'White', '100', 'Other specified', '4'], ['4', '2012', '02', 'Suicide', '0', 'M', '64', 'White', '100', 'Home', '4'], ['5', '2012', '02', 'Suicide', '0', 'M', '31', 'White', '100', 'Other specified', '2']]\n"
     ]
    }
   ],
   "source": [
    "print(data[:5])"
   ]
  },
  {
   "cell_type": "code",
   "execution_count": 257,
   "metadata": {},
   "outputs": [
    {
     "name": "stdout",
     "output_type": "stream",
     "text": [
      "Intents: ['Suicide', 'Suicide', 'Suicide', 'Suicide', 'Suicide', 'Suicide', 'Undetermined', 'Suicide', 'Accidental', 'Suicide', 'Suicide', 'Suicide', 'Suicide', 'Suicide', 'Homicide', 'Suicide', 'Suicide', 'Suicide', 'Homicide', 'Suicide']\n",
      "Length of intents: 100798\n",
      "[(0, 'Suicide'), (1, 'Suicide'), (2, 'Suicide'), (3, 'Suicide'), (4, 'Suicide'), (5, 'Suicide'), (6, 'Undetermined'), (7, 'Suicide'), (8, 'Accidental'), (9, 'Suicide')]\n"
     ]
    }
   ],
   "source": [
    "\n",
    "intents = [ i[3] for i in data]\n",
    "\n",
    "print(\"Intents: {}\".format(intents[:20]))\n",
    "print(\"Length of intents: {}\".format(len(intents)))\n",
    "\n",
    "intent_enumerate_list =[]\n",
    "for i,value in enumerate(intents):\n",
    "    intent_enumerate_list.append((i,value))\n",
    "print(intent_enumerate_list[:10])"
   ]
  },
  {
   "cell_type": "code",
   "execution_count": 258,
   "metadata": {},
   "outputs": [
    {
     "name": "stdout",
     "output_type": "stream",
     "text": [
      "DATA: ['1', '2012', '01', 'Suicide', '0', 'M', '34', 'Asian/Pacific Islander', '100', 'Home', '4']\n"
     ]
    }
   ],
   "source": [
    "print(\"DATA: {}\".format(data[0]))"
   ]
  },
  {
   "cell_type": "code",
   "execution_count": 259,
   "metadata": {},
   "outputs": [
    {
     "name": "stdout",
     "output_type": "stream",
     "text": [
      "Count Death Types: {'Suicide': 63175, 'Undetermined': 807, 'Accidental': 1639, 'Homicide': 35176, 'NA': 1}\n"
     ]
    }
   ],
   "source": [
    "count_death_types = {}\n",
    "\n",
    "for i in intents:\n",
    "    if i in count_death_types.keys():\n",
    "        count_death_types[i] += 1\n",
    "    else:\n",
    "        count_death_types[i] = 1\n",
    "\n",
    "print(\"Count Death Types: {}\".format(count_death_types))\n",
    "\n",
    "\n",
    "names_count_death_types = list(count_death_types.keys())\n",
    "values_count_death_types = count_death_types.values()\n",
    "range_count_death_types = range(len(count_death_types))\n",
    "\n"
   ]
  },
  {
   "cell_type": "code",
   "execution_count": 260,
   "metadata": {},
   "outputs": [
    {
     "data": {
      "image/png": "[encoded data removed]",
      "text/plain": [
       "<Figure size 432x288 with 1 Axes>"
      ]
     },
     "metadata": {
      "needs_background": "light"
     },
     "output_type": "display_data"
    }
   ],
   "source": [
    "plt.bar(range_count_death_types, values_count_death_types, \n",
    "        tick_label=names_count_death_types , align=\"center\" , \n",
    "        color=(\"black\", \"red\"), linewidth=4, edgecolor='green')\n",
    "plt.title(\"Death types numbers \\n\")\n",
    "plt.xlabel(\"Death types \\n\")\n",
    "plt.ylabel(\"Numbers \\n\")\n",
    "plt.xticks(rotation=90)\n",
    "plt.show()\n"
   ]
  },
  {
   "cell_type": "code",
   "execution_count": 261,
   "metadata": {},
   "outputs": [
    {
     "name": "stdout",
     "output_type": "stream",
     "text": [
      "5\n"
     ]
    },
    {
     "data": {
      "image/png": "[encoded data removed]",
      "text/plain": [
       "<Figure size 432x288 with 1 Axes>"
      ]
     },
     "metadata": {},
     "output_type": "display_data"
    }
   ],
   "source": [
    "\n",
    "print(len(list(values_count_death_types)))\n",
    "\n",
    "plt.pie(list(values_count_death_types),  autopct='%1.1f%%', \n",
    "        shadow=True, startangle=140, \n",
    "        pctdistance= 0.3, labeldistance=1.4)\n",
    "plt.title(\"Death types numbers \\n\")\n",
    "plt.legend(names_count_death_types , loc=1)\n",
    "plt.axis('equal')\n",
    "\n",
    "plt.show()"
   ]
  },
  {
   "cell_type": "markdown",
   "metadata": {},
   "source": [
    "## Homicides"
   ]
  },
  {
   "cell_type": "code",
   "execution_count": 262,
   "metadata": {},
   "outputs": [
    {
     "name": "stdout",
     "output_type": "stream",
     "text": [
      "Number of homicides: 35176\n"
     ]
    }
   ],
   "source": [
    "\n",
    "homicides= 0\n",
    "for i in intents:\n",
    "    if i == 'Homicide':\n",
    "        homicides += 1\n",
    "print(\"Number of homicides: {}\".format(homicides))"
   ]
  },
  {
   "cell_type": "code",
   "execution_count": 263,
   "metadata": {},
   "outputs": [
    {
     "name": "stdout",
     "output_type": "stream",
     "text": [
      "Races: ['Asian/Pacific Islander', 'White', 'White', 'White', 'White', 'Native American/Native Alaskan', 'White', 'Native American/Native Alaskan', 'White', 'Black']\n",
      "Count races_2: 100798\n",
      "Count intents: 100798\n"
     ]
    }
   ],
   "source": [
    "races_2=[ i[7]  for i in data]\n",
    "\n",
    "print(\"Races: {}\".format(races_2[:10]))\n",
    "print(\"Count races_2: {}\".format(len(races_2)))\n",
    "print(\"Count intents: {}\".format(len(intents)))\n",
    "\n"
   ]
  },
  {
   "cell_type": "code",
   "execution_count": 264,
   "metadata": {},
   "outputs": [
    {
     "name": "stdout",
     "output_type": "stream",
     "text": [
      "[['aliceblue', '#F0F8FF'], ['antiquewhite', '#FAEBD7'], ['aqua', '#00FFFF'], ['aquamarine', '#7FFFD4'], ['azure', '#F0FFFF'], ['beige', '#F5F5DC'], ['bisque', '#FFE4C4'], ['black', '#000000'], ['blanchedalmond', '#FFEBCD'], ['blue', '#0000FF']]\n"
     ]
    }
   ],
   "source": [
    "import matplotlib\n",
    "\n",
    "hexcolors = []\n",
    "\n",
    "for name, hex in matplotlib.colors.cnames.items():\n",
    "    # print(name, hex)\n",
    "    hexcolors.append([name, hex])\n",
    "    \n",
    "print(hexcolors[:10])"
   ]
  },
  {
   "cell_type": "code",
   "execution_count": 265,
   "metadata": {},
   "outputs": [
    {
     "name": "stdout",
     "output_type": "stream",
     "text": [
      "{'White': 9147, 'Asian/Pacific Islander': 559, 'Black': 19510, 'Native American/Native Alaskan': 326, 'Hispanic': 5634}\n"
     ]
    }
   ],
   "source": [
    "\n",
    "homicide_race_counts = {}\n",
    "\n",
    "\n",
    "for e,race in enumerate(races_2):\n",
    "    if intents[e] == \"Homicide\":\n",
    "        if race in homicide_race_counts.keys():\n",
    "            homicide_race_counts[race]+=1\n",
    "        else:\n",
    "            homicide_race_counts[race]=1\n",
    "\n",
    "print(homicide_race_counts)\n",
    "\n",
    "\n"
   ]
  },
  {
   "cell_type": "code",
   "execution_count": 266,
   "metadata": {},
   "outputs": [
    {
     "data": {
      "image/png": "[encoded data removed]",
      "text/plain": [
       "<Figure size 432x288 with 1 Axes>"
      ]
     },
     "metadata": {
      "needs_background": "light"
     },
     "output_type": "display_data"
    }
   ],
   "source": [
    "homicide_race_counts_name = list(homicide_race_counts.keys())\n",
    "homicide_race_counts_values = homicide_race_counts.values()\n",
    "homicide_race_counts_range = range(len(homicide_race_counts))\n",
    "\n",
    "plt.bar(homicide_race_counts_range, homicide_race_counts_values, \n",
    "        tick_label=homicide_race_counts_name, align='center',\n",
    "       color=('darkgoldenrod', 'maroon'), edgecolor='black',\n",
    "       linewidth=5)\n",
    "plt.xticks(rotation=90)\n",
    "plt.title('Homicide counts absolute grouped by race \\n')\n",
    "plt.xlabel('Race')\n",
    "plt.ylabel('Absolute number \\n')\n",
    "plt.show()"
   ]
  },
  {
   "cell_type": "code",
   "execution_count": 267,
   "metadata": {},
   "outputs": [
    {
     "data": {
      "image/png": "[encoded data removed]",
      "text/plain": [
       "<Figure size 432x288 with 1 Axes>"
      ]
     },
     "metadata": {},
     "output_type": "display_data"
    }
   ],
   "source": [
    "explode =  (0, 0, 0.1, 0, 0)\n",
    "plt.pie(list(homicide_race_counts_values ), labels=homicide_race_counts_name,  autopct='%1.1f%%', \n",
    "        shadow=True, startangle=140, explode=explode)\n",
    "plt.axis('equal')\n",
    "\n",
    "plt.show()"
   ]
  },
  {
   "cell_type": "markdown",
   "metadata": {},
   "source": [
    "#### Have some ethnics groups unproportional higher homicide rates than other groups?"
   ]
  },
  {
   "cell_type": "code",
   "execution_count": 268,
   "metadata": {},
   "outputs": [
    {
     "name": "stdout",
     "output_type": "stream",
     "text": [
      "{'White': 197318956, 'Asian/Pacific Islander': 15834141, 'Black': 40250635, 'Native American/Native Alaskan': 3739506, 'Hispanic': 44618105}\n",
      "{'White': 9147, 'Asian/Pacific Islander': 559, 'Black': 19510, 'Native American/Native Alaskan': 326, 'Hispanic': 5634}\n"
     ]
    }
   ],
   "source": [
    "print(mapping)\n",
    "print(homicide_race_counts)"
   ]
  },
  {
   "cell_type": "code",
   "execution_count": 269,
   "metadata": {},
   "outputs": [
    {
     "name": "stdout",
     "output_type": "stream",
     "text": [
      "{'White': 4.64, 'Asian/Pacific Islander': 3.53, 'Black': 48.47, 'Native American/Native Alaskan': 8.72, 'Hispanic': 12.63}\n"
     ]
    }
   ],
   "source": [
    "homicide_race_counts_per_hundredk={}\n",
    "\n",
    "for i,v in homicide_race_counts.items():\n",
    "    for u,b in mapping.items():\n",
    "        if i == u:\n",
    "            rr=v/b*100000\n",
    "            homicide_race_counts_per_hundredk[i]=round(rr,2)\n",
    "    \n",
    "print(homicide_race_counts_per_hundredk)"
   ]
  },
  {
   "cell_type": "code",
   "execution_count": 270,
   "metadata": {},
   "outputs": [
    {
     "data": {
      "image/png": "[encoded data removed]",
      "text/plain": [
       "<Figure size 432x288 with 1 Axes>"
      ]
     },
     "metadata": {
      "needs_background": "light"
     },
     "output_type": "display_data"
    }
   ],
   "source": [
    "homicide_race_counts_per_hundredk_name = \\\n",
    "list(homicide_race_counts_per_hundredk.keys())\n",
    "homicide_race_counts_per_hundredk_values = homicide_race_counts_per_hundredk.values()\n",
    "homicide_race_counts_per_hundredk_range = range(len(homicide_race_counts_per_hundredk))\n",
    "\n",
    "plt.bar(homicide_race_counts_per_hundredk_range, homicide_race_counts_per_hundredk_values, \n",
    "        tick_label=homicide_race_counts_per_hundredk_name , align='center',\n",
    "       color=('seagreen', 'palevioletred'), edgecolor='black', linewidth=5)\n",
    "plt.xticks(rotation=90)\n",
    "plt.title('Homicide per hundredk grouped by race in % \\n')\n",
    "plt.xlabel('Race')\n",
    "plt.ylabel('Relative number (%) \\n')\n",
    "plt.show()"
   ]
  },
  {
   "cell_type": "markdown",
   "metadata": {},
   "source": [
    "#### Using Pandas"
   ]
  },
  {
   "cell_type": "code",
   "execution_count": 271,
   "metadata": {},
   "outputs": [
    {
     "name": "stdout",
     "output_type": "stream",
     "text": [
      "[['aliceblue', '#F0F8FF'], ['antiquewhite', '#FAEBD7'], ['aqua', '#00FFFF'], ['aquamarine', '#7FFFD4'], ['azure', '#F0FFFF'], ['beige', '#F5F5DC'], ['bisque', '#FFE4C4'], ['black', '#000000'], ['blanchedalmond', '#FFEBCD'], ['blue', '#0000FF']]\n"
     ]
    }
   ],
   "source": [
    "import matplotlib\n",
    "\n",
    "hexcolors = []\n",
    "\n",
    "for name, hex in matplotlib.colors.cnames.items():\n",
    "    # print(name, hex)\n",
    "    hexcolors.append([name, hex])\n",
    "    \n",
    "print(hexcolors[:10])"
   ]
  },
  {
   "cell_type": "code",
   "execution_count": 272,
   "metadata": {},
   "outputs": [
    {
     "name": "stdout",
     "output_type": "stream",
     "text": [
      "['', 'year', 'month', 'intent', 'police', 'sex', 'age', 'race', 'hispanic', 'place', 'education']\n"
     ]
    }
   ],
   "source": [
    "print(headers)"
   ]
  },
  {
   "cell_type": "code",
   "execution_count": 273,
   "metadata": {},
   "outputs": [],
   "source": [
    "import numpy as np\n",
    "from sklearn import datasets, linear_model\n",
    "from sklearn.metrics import mean_squared_error, r2_score\n",
    "import pandas as pd"
   ]
  },
  {
   "cell_type": "code",
   "execution_count": 274,
   "metadata": {},
   "outputs": [
    {
     "name": "stdout",
     "output_type": "stream",
     "text": [
      "      year month   intent police sex age                    race hispanic  \\\n",
      "0  1  2012    01  Suicide      0   M  34  Asian/Pacific Islander      100   \n",
      "1  2  2012    01  Suicide      0   F  21                   White      100   \n",
      "2  3  2012    01  Suicide      0   M  60                   White      100   \n",
      "3  4  2012    02  Suicide      0   M  64                   White      100   \n",
      "4  5  2012    02  Suicide      0   M  31                   White      100   \n",
      "\n",
      "             place education  \n",
      "0             Home         4  \n",
      "1           Street         3  \n",
      "2  Other specified         4  \n",
      "3             Home         4  \n",
      "4  Other specified         2  \n",
      "                year month    intent police sex age      race hispanic  \\\n",
      "100793  100794  2014    12  Homicide      0   M  36     Black      100   \n",
      "100794  100795  2014    12  Homicide      0   M  19     Black      100   \n",
      "100795  100796  2014    12  Homicide      0   M  20     Black      100   \n",
      "100796  100797  2014    12  Homicide      0   M  22  Hispanic      260   \n",
      "100797  100798  2014    10  Homicide      0   M  43     Black      100   \n",
      "\n",
      "                    place education  \n",
      "100793               Home         2  \n",
      "100794             Street         2  \n",
      "100795             Street         2  \n",
      "100796             Street         1  \n",
      "100797  Other unspecified         2  \n",
      "                  year   month   intent  police     sex     age    race  \\\n",
      "count   100798  100798  100798   100798  100798  100798  100798  100798   \n",
      "unique  100798       3      12        5       2       2     105       5   \n",
      "top      78069    2013      07  Suicide       0       M      22   White   \n",
      "freq         1   33636    8989    63175   99396   86349    2712   66237   \n",
      "\n",
      "       hispanic   place education  \n",
      "count    100798  100798    100798  \n",
      "unique       39      11         6  \n",
      "top         100    Home         2  \n",
      "freq      91467   60486     42927  \n"
     ]
    }
   ],
   "source": [
    "df=pd.DataFrame(data, columns=headers)\n",
    "print(df.head())\n",
    "print(df.tail())\n",
    "print(df.describe())"
   ]
  },
  {
   "cell_type": "code",
   "execution_count": 275,
   "metadata": {},
   "outputs": [],
   "source": [
    "df_itent_race=df.iloc[:,[3,7]]\n",
    "\n"
   ]
  },
  {
   "cell_type": "code",
   "execution_count": 276,
   "metadata": {},
   "outputs": [
    {
     "name": "stdout",
     "output_type": "stream",
     "text": [
      "    intent                    race\n",
      "0  Suicide  Asian/Pacific Islander\n",
      "1  Suicide                   White\n",
      "2  Suicide                   White\n",
      "3  Suicide                   White\n",
      "4  Suicide                   White\n"
     ]
    }
   ],
   "source": [
    "print(df_itent_race.head())"
   ]
  },
  {
   "cell_type": "markdown",
   "metadata": {},
   "source": [
    "#### Selecting deaths caused by suicides"
   ]
  },
  {
   "cell_type": "code",
   "execution_count": 277,
   "metadata": {},
   "outputs": [],
   "source": [
    "\n",
    "df_itent_race_2 = []\n",
    "for i, row in df_itent_race.iterrows():\n",
    "    if df_itent_race.loc[i, 'intent'] == \"Homicide\":\n",
    "        \n",
    "        df_itent_race_2.append(1) \n",
    "\n",
    "    else:\n",
    "        \n",
    "        df_itent_race_2.append(0) \n",
    "    \n",
    "    "
   ]
  },
  {
   "cell_type": "code",
   "execution_count": 278,
   "metadata": {},
   "outputs": [
    {
     "name": "stdout",
     "output_type": "stream",
     "text": [
      "<class 'list'>\n",
      "100798\n",
      "[1, 1, 0, 1, 0]\n"
     ]
    }
   ],
   "source": [
    "print(type(df_itent_race_2))\n",
    "print(len(df_itent_race_2))\n",
    "print(df_itent_race_2[5000:5005])"
   ]
  },
  {
   "cell_type": "markdown",
   "metadata": {},
   "source": [
    "#### Make a dummy column indicating if death is caused by suicide"
   ]
  },
  {
   "cell_type": "code",
   "execution_count": 288,
   "metadata": {},
   "outputs": [],
   "source": [
    "# df_itent_race.is_copy = False\n",
    "df_itent_race.loc[:,\"Dummy\"] = df_itent_race_2\n"
   ]
  },
  {
   "cell_type": "code",
   "execution_count": 280,
   "metadata": {},
   "outputs": [
    {
     "name": "stdout",
     "output_type": "stream",
     "text": [
      "          intent                            race  Dummy\n",
      "0        Suicide          Asian/Pacific Islander      0\n",
      "1        Suicide                           White      0\n",
      "2        Suicide                           White      0\n",
      "3        Suicide                           White      0\n",
      "4        Suicide                           White      0\n",
      "5        Suicide  Native American/Native Alaskan      0\n",
      "6   Undetermined                           White      0\n",
      "7        Suicide  Native American/Native Alaskan      0\n",
      "8     Accidental                           White      0\n",
      "9        Suicide                           Black      0\n",
      "10       Suicide                           White      0\n",
      "11       Suicide  Native American/Native Alaskan      0\n",
      "12       Suicide                           White      0\n",
      "13       Suicide  Native American/Native Alaskan      0\n",
      "14      Homicide                           White      1\n",
      "15       Suicide  Native American/Native Alaskan      0\n",
      "16       Suicide                           White      0\n",
      "17       Suicide  Native American/Native Alaskan      0\n",
      "18      Homicide          Asian/Pacific Islander      1\n",
      "19       Suicide                           White      0\n",
      "20       Suicide  Native American/Native Alaskan      0\n",
      "21       Suicide                           White      0\n",
      "22      Homicide                           Black      1\n",
      "23       Suicide                           White      0\n",
      "24      Homicide                           White      1\n",
      "25      Homicide                           White      1\n",
      "26       Suicide  Native American/Native Alaskan      0\n",
      "27       Suicide                           White      0\n",
      "28       Suicide                           White      0\n",
      "29      Homicide                           White      1\n",
      "30       Suicide  Native American/Native Alaskan      0\n",
      "31       Suicide                           White      0\n",
      "32       Suicide  Native American/Native Alaskan      0\n",
      "33       Suicide                           White      0\n",
      "34      Homicide                           White      1\n",
      "35  Undetermined                           White      0\n",
      "36       Suicide  Native American/Native Alaskan      0\n",
      "37       Suicide  Native American/Native Alaskan      0\n",
      "38       Suicide                           White      0\n",
      "39       Suicide                           White      0\n",
      "40       Suicide  Native American/Native Alaskan      0\n",
      "41      Homicide          Asian/Pacific Islander      1\n",
      "42       Suicide                           White      0\n",
      "43       Suicide  Native American/Native Alaskan      0\n",
      "44       Suicide  Native American/Native Alaskan      0\n",
      "45       Suicide                           White      0\n",
      "46       Suicide                           White      0\n",
      "47      Homicide                           White      1\n",
      "48      Homicide  Native American/Native Alaskan      1\n",
      "49      Homicide          Asian/Pacific Islander      1\n"
     ]
    }
   ],
   "source": [
    "print(df_itent_race[:50])  "
   ]
  },
  {
   "cell_type": "code",
   "execution_count": null,
   "metadata": {},
   "outputs": [],
   "source": []
  }
 ],
 "metadata": {
  "kernelspec": {
   "display_name": "Python 3",
   "language": "python",
   "name": "python3"
  },
  "language_info": {
   "codemirror_mode": {
    "name": "ipython",
    "version": 3
   },
   "file_extension": ".py",
   "mimetype": "text/x-python",
   "name": "python",
   "nbconvert_exporter": "python",
   "pygments_lexer": "ipython3",
   "version": "3.7.3"
  }
 },
 "nbformat": 4,
 "nbformat_minor": 2
}
